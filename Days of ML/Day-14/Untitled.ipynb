{
 "cells": [
  {
   "cell_type": "markdown",
   "id": "67356d21",
   "metadata": {},
   "source": [
    "# Framing a Machine Learning Problem | How to plan a Data Science Project"
   ]
  },
  {
   "cell_type": "markdown",
   "id": "b8d995f3",
   "metadata": {},
   "source": [
    "## 1. business problem to ML problem\n",
    "       eg : Netflix ka revenue badhana hai ---> uska churn rate kam kardo (leaving custoomers ko retain karna hai)"
   ]
  },
  {
   "cell_type": "markdown",
   "id": "8cafc455",
   "metadata": {},
   "source": [
    "## 2. Type of Problem\n",
    "      kitne chances hai kisi bande ke platform chhod kar jaane ko\n",
    "      we see the sentimental value, generate a point between gievn range for           all customers ----> regression problem"
   ]
  },
  {
   "cell_type": "markdown",
   "id": "d003a686",
   "metadata": {},
   "source": [
    "## 3. Current Solution  "
   ]
  },
  {
   "cell_type": "markdown",
   "id": "ccc5c97d",
   "metadata": {},
   "source": [
    "## 4. Getting Data\n",
    "        1. watch time\n",
    "        2. search but did not find\n",
    "        3. Content left in the middle\n",
    "        4. clicked on recommendations (order of recommendations)"
   ]
  },
  {
   "cell_type": "markdown",
   "id": "5893d491",
   "metadata": {},
   "source": [
    "## 5. Metrices to measure\n",
    "        1. kya difference b/w predicted churn rate & real life kam tha?\n",
    "        2. kya jin customers ko predict kara, avhi chhodkar gye majorly?"
   ]
  },
  {
   "cell_type": "markdown",
   "id": "18b30e0e",
   "metadata": {},
   "source": [
    "## 6. Online vs Batch?\n",
    "        1. simultaneously online train kare model\n",
    "        2. or regularly basis par server ko offline karke fir update kare"
   ]
  },
  {
   "cell_type": "markdown",
   "id": "fc02976a",
   "metadata": {},
   "source": [
    "## 7. Check Assumptions\n",
    "        1. example : geographical changes, etc."
   ]
  },
  {
   "cell_type": "code",
   "execution_count": null,
   "id": "9aa0e519",
   "metadata": {},
   "outputs": [],
   "source": []
  }
 ],
 "metadata": {
  "kernelspec": {
   "display_name": "Python 3 (ipykernel)",
   "language": "python",
   "name": "python3"
  },
  "language_info": {
   "codemirror_mode": {
    "name": "ipython",
    "version": 3
   },
   "file_extension": ".py",
   "mimetype": "text/x-python",
   "name": "python",
   "nbconvert_exporter": "python",
   "pygments_lexer": "ipython3",
   "version": "3.10.9"
  }
 },
 "nbformat": 4,
 "nbformat_minor": 5
}
